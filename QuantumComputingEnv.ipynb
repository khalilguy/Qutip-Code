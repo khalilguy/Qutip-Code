{
 "cells": [
  {
   "cell_type": "code",
   "execution_count": 175,
   "metadata": {},
   "outputs": [],
   "source": [
    "import gym\n",
    "from gym import spaces\n",
    "import numpy as np\n",
    "from numpy.random import randint\n",
    "import networkx as nx\n",
    "\n",
    "\n",
    "from qutip import *\n",
    "from IPython.display import Image\n",
    "from qutip.qip.operations import *\n",
    "from qutip.qip.circuit import * \n",
    "from qutip.qip.device import Processor\n",
    "from qutip.qip.device import CircularSpinChain, LinearSpinChain\n",
    "from qutip.qip.noise import RandomNoise\n",
    "from qutip.operators import sigmaz, sigmay, sigmax, destroy\n",
    "from qutip.states import basis\n",
    "from qutip.metrics import fidelity\n",
    "from qutip.qip.operations import rx, ry, rz, hadamard_transform\n",
    "\n",
    "\n",
    "import copy\n",
    "import CircuitUtils as cu\n",
    "import CircutEmbedding as ce\n",
    "\n"
   ]
  },
  {
   "cell_type": "code",
   "execution_count": 167,
   "metadata": {},
   "outputs": [],
   "source": [
    "class QubitHardwareEnv(gym.Env):\n",
    "    metadata = {'render.modes': ['human']}\n",
    "    movements = ['up', 'down', 'left', 'right']\n",
    "    \n",
    "    def __init__(self, height_grid, width, width_circuit):    \n",
    "        super(QubitHardwareEnv, self).__init__()\n",
    "        self.width_of_circuit = width_of_circuit\n",
    "        self.height_grid = height_grid\n",
    "        self.width_grid = width_grid\n",
    "        #keep track of how many steps have been taken in an episode\n",
    "        self.step = 0\n",
    "        harware = nx.generators.lattice.grid_2d_graph(self.height, self.width, create_using = nx.DiGraph)\n",
    "        #hardware = ce.relabel(hardware)\n",
    "        self.circuit  = nx.DiGraph()\n",
    "        self.circuit.add_nodes_from(grid)\n",
    "        self.num_qubits  = self.circuit.number_of_nodes()\n",
    "        self.gates_list = []\n",
    "        #adj = {node:list(edges) for node,edges in dict(grid.adj).items()}\n",
    "    \n",
    "    \n",
    "\n",
    "        # Define action and observation space\n",
    "\n",
    "        #Will need the following actions:\n",
    "        #Apply a hadamard, apply a swap, apply a cnot\n",
    "        #When it applys a CNOT or SWAP it needs to identify which qubits it \n",
    "        #can apply gates to from current possition and choose one\n",
    "        #Will have a pointer that applies a gate to the pointers location\n",
    "        #Instead of allowing the pointer to teleport anywhere it wants restrict it to moving one space in a direction from its current position\n",
    "        gates = 3 #Hadamard, CNOT, SWAP\n",
    "\n",
    "        self.action_space = spaces.Tuple([spaces.Discrete(len(movements)), #spaces.Box(low=np.array([0, 0]), high=np.array([vert_len_grid, horizon_len_grid]),dtype=np.int16),\n",
    "                                         spaces.Discrete(gates)])\n",
    "        # Example for using image as input:\n",
    "        self.observation_space = spaces.Box(low=0, high=1, shape = (num_qubits,num_qubits) ,dtype=np.float16)\n",
    "        \n",
    "    def step(self, action):\n",
    "        direction, gate = action\n",
    "        self.previous_postion = copy(self.grid_pos)\n",
    "        self.used_points.append(self.previous_postion)\n",
    "        x,y = self._move(direction)\n",
    "        done = False\n",
    "        \n",
    "        if x > self.width_grid or x < 0:\n",
    "            done = True\n",
    "            reward = 0\n",
    "        if y > self.height_grid or y < 0:\n",
    "            done = True\n",
    "            reward = 0      \n",
    "        \n",
    "        if not done:\n",
    "            self.grid_pos = x,y   \n",
    "            if (self.grid_pos in set(self.used_points)):\n",
    "                done = True\n",
    "                reward = 0\n",
    "            elif step == 0:\n",
    "                if gate == 0:\n",
    "                    state = self.apply_gate(gate)\n",
    "                    reward = self.avg_fidelity(previous_position,self.num_cnots)\n",
    "                    step += 1\n",
    "                elif gate > 0:\n",
    "                    done = True\n",
    "                    reward = -1\n",
    "            elif step > 0:\n",
    "                if gate == 0:\n",
    "                    done = True\n",
    "                    reward = -1\n",
    "                elif gate > 0:\n",
    "                    if gate == 1:\n",
    "                        num_cnots += 1\n",
    "                    state = self.apply_gate(gate)\n",
    "                    reward = self.avg_fidelity(current_position,self.num_cnots)\n",
    "                    step += 1\n",
    "        if num_cnots == self.width_circuit:\n",
    "            done = True\n",
    "            reward = fidelity(self.circuit)\n",
    "        return state, reward, done, {}\n",
    "    \n",
    "\n",
    "    def move(self, move):\n",
    "        x, y = self.grid_pos\n",
    "        if movements[direction] == 'up':\n",
    "            y += 1\n",
    "        elif movements[direction] == 'down':\n",
    "            y -= 1\n",
    "        elif movements[direction] == 'left':\n",
    "            x -= 1\n",
    "        else:\n",
    "            x += 1\n",
    "        return x,y\n",
    "    \n",
    "    def apply_gate(self, gate):\n",
    "        if gate > 0:\n",
    "            self.circuit.add_edge(self.previous_position, self.grid_pos)\n",
    "        \n",
    "        \n",
    "    def reset(self):\n",
    "        self.used_points = []\n",
    "        self.num_cnots = 0\n",
    "        self.step = 0\n",
    "        self.grid_pos = (np.randint(0, self.width_grid),np.randint(0, self.height_grid))\n",
    "        self.circuit = nx.DiGraph()\n",
    "        self.circuit.add_nodes_from(grid)\n",
    "        self.gates_list = []\n",
    "        return nx.convert_matrix.to_numpy_matrix(self.circuit)\n",
    "    def render(self, mode='human', close=False):\n",
    "        pass\n",
    "    # Render the environment to the screen\n",
    "    "
   ]
  },
  {
   "cell_type": "code",
   "execution_count": 157,
   "metadata": {},
   "outputs": [],
   "source": [
    "observation_space = spaces.Box(low=0, high=1, shape = (9,9) ,dtype=np.float16)"
   ]
  },
  {
   "cell_type": "code",
   "execution_count": 158,
   "metadata": {
    "scrolled": true
   },
   "outputs": [
    {
     "data": {
      "text/plain": [
       "array([[0.7954 , 0.595  , 0.756  , 0.7847 , 0.6284 , 0.06775, 0.91   ,\n",
       "        0.3516 , 0.0968 ],\n",
       "       [0.1087 , 0.727  , 0.8994 , 0.1626 , 0.6387 , 0.419  , 0.9263 ,\n",
       "        0.1726 , 0.4504 ],\n",
       "       [0.2333 , 0.1367 , 0.2455 , 0.0549 , 0.641  , 0.65   , 0.1398 ,\n",
       "        0.8926 , 0.7925 ],\n",
       "       [0.5615 , 0.0884 , 0.5557 , 0.918  , 0.3289 , 0.398  , 0.3203 ,\n",
       "        0.08844, 0.7817 ],\n",
       "       [0.04456, 0.1015 , 0.03864, 0.8975 , 0.9014 , 0.2283 , 0.03235,\n",
       "        0.4683 , 0.4377 ],\n",
       "       [0.2664 , 0.2625 , 0.711  , 0.3118 , 0.908  , 0.8223 , 0.9414 ,\n",
       "        0.3262 , 0.2915 ],\n",
       "       [0.1085 , 0.7153 , 0.8086 , 0.6045 , 0.3765 , 0.576  , 0.8794 ,\n",
       "        0.787  , 0.3254 ],\n",
       "       [0.954  , 0.5806 , 0.688  , 0.899  , 0.1284 , 0.1104 , 0.6743 ,\n",
       "        0.435  , 0.359  ],\n",
       "       [0.0705 , 0.7876 , 0.5596 , 0.6772 , 0.674  , 0.2206 , 0.1907 ,\n",
       "        0.0952 , 0.937  ]], dtype=float16)"
      ]
     },
     "execution_count": 158,
     "metadata": {},
     "output_type": "execute_result"
    }
   ],
   "source": [
    "observation_space.sample()"
   ]
  },
  {
   "cell_type": "code",
   "execution_count": 181,
   "metadata": {
    "scrolled": true
   },
   "outputs": [
    {
     "data": {
      "image/png": "[encoded data removed]",
      "text/plain": [
       "<Figure size 432x288 with 1 Axes>"
      ]
     },
     "metadata": {},
     "output_type": "display_data"
    }
   ],
   "source": [
    "grid = nx.generators.lattice.grid_2d_graph(3,3, create_using = nx.DiGraph)\n",
    "#grid = ce.relabel_grid(grid)\n",
    "adj_dict = {node:list(edges) for node,edges in dict(grid.adj).items()}\n",
    "#circuit = nx.DiGraph().add_nodes_from(grid)   \n",
    "nx.draw_networkx_labels(grid, pos=nx.spring_layout(grid))\n",
    "#nx.draw(circuit)\n",
    "nx.draw(grid)\n",
    "    "
   ]
  },
  {
   "cell_type": "code",
   "execution_count": 185,
   "metadata": {},
   "outputs": [
    {
     "data": {
      "image/png": "[encoded data removed]",
      "text/plain": [
       "<Figure size 432x288 with 1 Axes>"
      ]
     },
     "metadata": {},
     "output_type": "display_data"
    }
   ],
   "source": [
    "circuit = nx.MultiDiGraph()\n",
    "circuit.add_nodes_from(grid)\n",
    "circuit.add_edge((0,0),(0,0), gate = \"H\")\n",
    "circuit.add_edge((0,0),(0,1), gate = \"CNOT\")\n",
    "#circuit.add_edge(1,0)\n",
    "nx.draw(circuit)"
   ]
  },
  {
   "cell_type": "code",
   "execution_count": 188,
   "metadata": {},
   "outputs": [
    {
     "data": {
      "text/plain": [
       "9"
      ]
     },
     "execution_count": 188,
     "metadata": {},
     "output_type": "execute_result"
    }
   ],
   "source": [
    "arr = nx.convert_matrix.to_numpy_array(circuit)\n",
    "circuit.number_of_nodes()"
   ]
  },
  {
   "cell_type": "code",
   "execution_count": 189,
   "metadata": {},
   "outputs": [
    {
     "name": "stdout",
     "output_type": "stream",
     "text": [
      "[[1. 1. 0. 0. 0. 0. 0. 0. 0.]\n",
      " [0. 0. 0. 0. 0. 0. 0. 0. 0.]\n",
      " [0. 0. 0. 0. 0. 0. 0. 0. 0.]\n",
      " [0. 0. 0. 0. 0. 0. 0. 0. 0.]\n",
      " [0. 0. 0. 0. 0. 0. 0. 0. 0.]\n",
      " [0. 0. 0. 0. 0. 0. 0. 0. 0.]\n",
      " [0. 0. 0. 0. 0. 0. 0. 0. 0.]\n",
      " [0. 0. 0. 0. 0. 0. 0. 0. 0.]\n",
      " [0. 0. 0. 0. 0. 0. 0. 0. 0.]]\n"
     ]
    }
   ],
   "source": [
    "print(arr)"
   ]
  },
  {
   "cell_type": "code",
   "execution_count": 190,
   "metadata": {},
   "outputs": [
    {
     "data": {
      "text/plain": [
       "array([[1., 1., 0., 0., 0., 0., 0., 0., 0.],\n",
       "       [0., 0., 0., 0., 0., 0., 0., 0., 0.],\n",
       "       [0., 0., 0., 0., 0., 0., 0., 0., 0.],\n",
       "       [0., 0., 0., 0., 0., 0., 0., 0., 0.],\n",
       "       [0., 0., 0., 0., 0., 0., 0., 0., 0.],\n",
       "       [0., 0., 0., 0., 0., 0., 0., 0., 0.],\n",
       "       [0., 0., 0., 0., 0., 0., 0., 0., 0.],\n",
       "       [0., 0., 0., 0., 0., 0., 0., 0., 0.],\n",
       "       [0., 0., 0., 0., 0., 0., 0., 0., 0.]])"
      ]
     },
     "execution_count": 190,
     "metadata": {},
     "output_type": "execute_result"
    }
   ],
   "source": [
    "arr"
   ]
  },
  {
   "cell_type": "code",
   "execution_count": 112,
   "metadata": {},
   "outputs": [
    {
     "data": {
      "text/plain": [
       "<networkx.classes.digraph.DiGraph at 0x26831b24448>"
      ]
     },
     "execution_count": 112,
     "metadata": {},
     "output_type": "execute_result"
    }
   ],
   "source": []
  },
  {
   "cell_type": "code",
   "execution_count": null,
   "metadata": {},
   "outputs": [],
   "source": []
  }
 ],
 "metadata": {
  "kernelspec": {
   "display_name": "Python 3",
   "language": "python",
   "name": "python3"
  },
  "language_info": {
   "codemirror_mode": {
    "name": "ipython",
    "version": 3
   },
   "file_extension": ".py",
   "mimetype": "text/x-python",
   "name": "python",
   "nbconvert_exporter": "python",
   "pygments_lexer": "ipython3",
   "version": "3.7.6"
  }
 },
 "nbformat": 4,
 "nbformat_minor": 4
}
