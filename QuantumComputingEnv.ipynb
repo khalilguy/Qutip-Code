{
 "cells": [
  {
   "cell_type": "code",
   "execution_count": 54,
   "metadata": {},
   "outputs": [],
   "source": [
    "import gym\n",
    "from gym import spaces\n",
    "from qutip import *\n",
    "from IPython.display import Image\n",
    "from qutip.qip.operations import *\n",
    "from qutip.qip.circuit import * \n",
    "import numpy as np\n",
    "from qutip.qip.device import Processor\n",
    "from qutip.qip.device import CircularSpinChain, LinearSpinChain\n",
    "from qutip.qip.noise import RandomNoise\n",
    "from qutip.operators import sigmaz, sigmay, sigmax, destroy\n",
    "from qutip.states import basis\n",
    "from qutip.metrics import fidelity\n",
    "from qutip.qip.operations import rx, ry, rz, hadamard_transform\n",
    "import networkx as nx\n",
    "\n",
    "import CircuitUtils as cu\n",
    "import CircutEmbedding as ce\n",
    "\n"
   ]
  },
  {
   "cell_type": "code",
   "execution_count": 66,
   "metadata": {},
   "outputs": [],
   "source": [
    "class QubitHardwareEnv(gym.Env):\n",
    "  \"\"\"Custom Environment that follows gym interface\"\"\"\n",
    "  metadata = {'render.modes': ['human']}\n",
    "\n",
    "  def __init__(self, vert_len_grid, horizon_len_grid, width_circuit):    \n",
    "    super(QubitHardwareEnv, self).__init__()\n",
    "    self.width_of_circuit = width_of_circuit\n",
    "    self.vert_len_grid = vert_len_grid\n",
    "    self.horizon_len_grid = horizon_len_grid\n",
    "    grid = nx.generators.lattice.grid_2d_graph(self.vert_len_grid,self.horizon_len_grid, create_using = nx.DiGraph)\n",
    "    grid = ce.relabel(grid)\n",
    "    adj_dict = {node:list(edges) for node,edges in dict(grid.adj).items()}\n",
    "    \n",
    "    self.pointer_pos = 0\n",
    "    self.num_nodes = grid.number_of_nodes()\n",
    "\n",
    "    \n",
    "\n",
    "    # Define action and observation space\n",
    " \n",
    "    #Will need the following actions:\n",
    "    #Apply a hadamard, apply a swap, apply a cnot\n",
    "    #When it applys a CNOT or SWAP it needs to identify which qubits it \n",
    "    #can apply gates to from current possition and choose one\n",
    "    #Will have a pointer that applies a gate to the pointers location\n",
    "    gates = 3 #Hadamard, CNOT, SWAP\n",
    "\n",
    "    self.action_space = spaces.Dict({\"pointer\":Discrete(self.num_nodes), #spaces.Box(low=np.array([0, 0]), high=np.array([vert_len_grid, horizon_len_grid]),dtype=np.int16),\n",
    "                                     \"gates\": Discrete(gates)})\n",
    "    self.action_space = spaces.MultiDiscrete(grid.number_of_nodes(),gates)\n",
    "    # Example for using image as input:\n",
    "    self.observation_space = spaces.Box(low=np.array([0,self.horizon_len_grid]), high=np.array([0,self.vert_len_grid]), dtype=np.uint8)\n",
    "    #self.observation_space = spaces.MultiDiscete([grid.number_of_nodes(), grid.number_of_edges()])\n",
    "\n",
    "  def step(self, action):\n",
    "    self._take_action(action)\n",
    "    \n",
    "    pass\n",
    "    # Execute one time step within the environment\n",
    "\n",
    "  def reset(self):\n",
    "    pass\n",
    "    # Reset the state of the environment to an initial state\n",
    "  def render(self, mode='human', close=False):\n",
    "    pass\n",
    "    # Render the environment to the screen\n",
    "  def _take_action(self, action):\n",
    "    pass\n",
    "    "
   ]
  },
  {
   "cell_type": "code",
   "execution_count": 73,
   "metadata": {},
   "outputs": [],
   "source": [
    "action_space = spaces.Box(low=np.array([0, 0]), high=np.array([2, 2]),dtype=np.int16)"
   ]
  },
  {
   "cell_type": "code",
   "execution_count": 79,
   "metadata": {},
   "outputs": [
    {
     "data": {
      "text/plain": [
       "array([0, 1], dtype=int16)"
      ]
     },
     "execution_count": 79,
     "metadata": {},
     "output_type": "execute_result"
    }
   ],
   "source": [
    "action_space.sample()"
   ]
  },
  {
   "cell_type": "code",
   "execution_count": 72,
   "metadata": {},
   "outputs": [
    {
     "name": "stdout",
     "output_type": "stream",
     "text": [
      "Box(2,)\n"
     ]
    }
   ],
   "source": [
    "print(action_space)"
   ]
  },
  {
   "cell_type": "code",
   "execution_count": 65,
   "metadata": {},
   "outputs": [
    {
     "data": {
      "image/png": "[encoded data removed]",
      "text/plain": [
       "<Figure size 432x288 with 1 Axes>"
      ]
     },
     "metadata": {},
     "output_type": "display_data"
    }
   ],
   "source": [
    "grid = nx.generators.lattice.grid_2d_graph(3,3, create_using = nx.DiGraph)\n",
    "#grid =ce.relabel_grid(grid)\n",
    "nx.draw_networkx_labels(grid, pos=nx.spring_layout(grid))\n",
    "nx.draw(grid)\n",
    "    "
   ]
  },
  {
   "cell_type": "code",
   "execution_count": 61,
   "metadata": {},
   "outputs": [
    {
     "name": "stdout",
     "output_type": "stream",
     "text": [
      "((0, 0), {(0, 1): {}, (1, 0): {}})\n",
      "((0, 1), {(0, 0): {}, (0, 2): {}, (1, 1): {}})\n",
      "((0, 2), {(0, 1): {}, (1, 2): {}})\n",
      "((1, 0), {(0, 0): {}, (1, 1): {}, (2, 0): {}})\n",
      "((1, 1), {(0, 1): {}, (1, 0): {}, (1, 2): {}, (2, 1): {}})\n",
      "((1, 2), {(0, 2): {}, (1, 1): {}, (2, 2): {}})\n",
      "((2, 0), {(1, 0): {}, (2, 1): {}})\n",
      "((2, 1), {(1, 1): {}, (2, 0): {}, (2, 2): {}})\n",
      "((2, 2), {(1, 2): {}, (2, 1): {}})\n"
     ]
    }
   ],
   "source": [
    "grid.adjacency()\n",
    "for element in grid.adjacency():\n",
    "    print(element)"
   ]
  },
  {
   "cell_type": "code",
   "execution_count": null,
   "metadata": {},
   "outputs": [],
   "source": [
    "class AdjacencyEnv(gym.Env):\n",
    "  def __init__(self, node, adjacency_dict,t1_times_dict):\n",
    "    super(AdjacencyEnv, self).__init__()\n",
    "    self.action_space = Discrete(len(adjacency_dict[node]))\n",
    "    self.observation_space = Discrete(len(t1_times_dict))\n",
    "  def _next_observation():\n",
    "    obs = "
   ]
  }
 ],
 "metadata": {
  "kernelspec": {
   "display_name": "Python 3",
   "language": "python",
   "name": "python3"
  },
  "language_info": {
   "codemirror_mode": {
    "name": "ipython",
    "version": 3
   },
   "file_extension": ".py",
   "mimetype": "text/x-python",
   "name": "python",
   "nbconvert_exporter": "python",
   "pygments_lexer": "ipython3",
   "version": "3.7.6"
  }
 },
 "nbformat": 4,
 "nbformat_minor": 4
}
