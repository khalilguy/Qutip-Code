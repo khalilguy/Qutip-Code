{
 "cells": [
  {
   "cell_type": "code",
   "execution_count": 1,
   "metadata": {},
   "outputs": [],
   "source": [
    "import gym\n",
    "from gym import spaces\n",
    "import numpy as np\n",
    "from numpy.random import randint\n",
    "import networkx as nx\n",
    "\n",
    "\n",
    "from qutip import *\n",
    "from IPython.display import Image\n",
    "from qutip.qip.operations import *\n",
    "from qutip.qip.circuit import * \n",
    "from qutip.qip.device import Processor\n",
    "from qutip.qip.device import CircularSpinChain, LinearSpinChain\n",
    "from qutip.qip.noise import RandomNoise\n",
    "from qutip.operators import sigmaz, sigmay, sigmax, destroy\n",
    "from qutip.states import basis\n",
    "from qutip.metrics import fidelity\n",
    "from qutip.qip.operations import rx, ry, rz, hadamard_transform\n",
    "\n",
    "\n",
    "import copy\n",
    "import MyGates as mg\n",
    "import CircuitUtils as cu\n",
    "import CircutEmbedding as ce\n",
    "\n"
   ]
  },
  {
   "cell_type": "code",
   "execution_count": 15,
   "metadata": {},
   "outputs": [],
   "source": [
    "class QubitHardwareEnv(gym.Env):\n",
    "    metadata = {'render.modes': ['human']}\n",
    "    movements = ['up', 'down', 'left', 'right']\n",
    "    \n",
    "    def __init__(self, height_grid, width_grid, width_circuit):  \n",
    "        \n",
    "        \"\"\"\n",
    "        # Define action and observation space\n",
    "\n",
    "        We will have two sub-actions:\n",
    "        \n",
    "        1. Apply a hadamard, apply a cnot, or apply a swap\n",
    "        2. Move a pointer left, right, up, or down. This action is ignored on the\n",
    "        first step because we apply a hadamard \n",
    "        #can apply gates to from current possition and choose one\n",
    "        \n",
    "        #Instead of allowing the pointer to teleport anywhere it wants restrict it to moving one space in a direction from its current position\n",
    "        \n",
    "        \"\"\"\n",
    "        super(QubitHardwareEnv, self).__init__()\n",
    "        self.trapped = False\n",
    "        self.used_points = []\n",
    "        self.num_cnots = 0\n",
    "        self.time_step = 0\n",
    "        self.movements = ['up', 'down', 'left', 'right']\n",
    "        self.width_circuit = width_circuit\n",
    "        self.height_grid = height_grid\n",
    "        self.width_grid = width_grid\n",
    "        self.gates_list = []\n",
    "        \n",
    "        \n",
    "        self.current_position = 0\n",
    "        self.previous_position = 0\n",
    "        #create a noise dictionary to represent coherent noise in the hardware\n",
    "        self.hardware = nx.generators.lattice.grid_2d_graph(self.height_grid, self.width_grid, create_using = nx.DiGraph)\n",
    "        self.undirected_hardware = nx.generators.lattice.grid_2d_graph(self.height_grid, self.width_grid)\n",
    "        self.noise_dict = ce.get_noise_dict(self.hardware,self.undirected_hardware)\n",
    "        \n",
    "        self.circuit = 0\n",
    "        #hardware = ce.relabel(hardware)\n",
    "        self.num_qubits  = self.hardware.number_of_nodes()\n",
    "        #self.gates_list = []\n",
    "        self.adj_dict = {node:list(edges) for node,edges in dict(self.hardware.adj).items()}\n",
    "    \n",
    "    \n",
    "\n",
    "       \n",
    "        self.gates = 3 #Hadamard, CNOT, SWAP\n",
    "\n",
    "        self.action_space = spaces.Tuple([spaces.Discrete(len(self.movements)), spaces.Discrete(self.gates)])\n",
    "        self.observation_space = spaces.Box(low=0, high=1, shape = (self.num_qubits,self.num_qubits) ,dtype=np.float16)\n",
    "        \n",
    "    def step(self, action):\n",
    "    \n",
    "        #Gate actions for which gate to apply and which direction to apply that gate\n",
    "        direction, gate = action\n",
    "        self.previous_postion = copy.copy(self.current_position)\n",
    "        x,y = self._move(direction)\n",
    "        done = False\n",
    "        \n",
    "        #Check if we are out of bounds, if we are end the episode\n",
    "   \n",
    "\n",
    "        #This makes is so that we only apply a Hadamard at the first time step. If we apply a different state, \n",
    "        #end the episode and if we apply one after the first time step end the episode\n",
    "        if self.time_step == 0:\n",
    "            if gate == 0:\n",
    "                self.used_points.append(self.current_position)\n",
    "                self.apply_gate(gate)\n",
    "                reward = self.avg_fidelity()\n",
    "                self.time_step += 1\n",
    "            elif gate > 0:\n",
    "                done = True\n",
    "                reward = 0\n",
    "        elif self.time_step > 0:\n",
    "            if gate == 0:\n",
    "                done = True\n",
    "                reward = 0\n",
    "            elif gate > 0:\n",
    "                #Use this to check if the circuit is trapped by itself. If so, end the episode\n",
    "                p = 0\n",
    "                for adj_point in self.adj_dict[(x,y)]:\n",
    "                    if adj_point in set(self.used_points):\n",
    "                        p += 1\n",
    "                if gate == 1:\n",
    "                    self.num_cnots += 1\n",
    "                if len(self.adj_dict[(x,y)]) == p and self.num_cnots < (self.width_circuit - 1):\n",
    "                    done = True\n",
    "                    reward = 0\n",
    "                    \n",
    "                #Check if we are out of bounds, if we are end the episode\n",
    "                elif x > self.width_grid or x < 0 or y > self.height_grid or y < 0:\n",
    "                    done = True\n",
    "                    reward = 0\n",
    "                #check if the action put us at a point which has already been passed over.\n",
    "                #If so, end episode\n",
    "                elif (x,y) in set(self.used_points):\n",
    "                    done = True\n",
    "                    reward = 0\n",
    "                elif self.num_cnots < (self.width_circuit - 1):\n",
    "                    self.current_position = x,y\n",
    "                    self.used_points.append(self.current_position)\n",
    "                    self.apply_gate(gate)\n",
    "                    self.circuit = nx.convert_matrix.to_numpy_array(self.circuit_graph)\n",
    "                    reward = self.avg_fidelity()\n",
    "                    self.time_step += 1\n",
    "\n",
    "        if self.num_cnots == (self.width_circuit - 1) and not done:\n",
    "            self.current_position = x,y\n",
    "            self.used_points.append(self.current_position)\n",
    "            self.apply_gate(gate)\n",
    "            self.circuit = nx.convert_matrix.to_numpy_array(self.circuit_graph)\n",
    "            done = True\n",
    "            reward = self._fidelity(self.gates_list, self.used_points)\n",
    "        state = self.circuit\n",
    "        return state, reward, done, {}\n",
    "    \n",
    "    def avg_fidelity(self):\n",
    "        target = 0\n",
    "        avg_fidelity = 0 \n",
    "        \n",
    "        while target < 1:\n",
    "            current_cnots = copy.copy(self.num_cnots)\n",
    "            current_gates_list = copy.copy(self.gates_list)\n",
    "            current_used_points = copy.copy(self.used_points)\n",
    "            current_point = copy.copy(self.current_position)\n",
    "            done = False\n",
    "            trapped = False\n",
    "            #Need to consider case where it gets stuck in a corner or gets trapped by itself in general\n",
    "            print(current_gates_list)\n",
    "            \n",
    "            while not done:\n",
    "                rand_gate = randint(1,3) # CNOT, SWAP\n",
    "                rand_adj_point = self.adj_dict[current_point][randint(0,len(self.adj_dict[current_point]))]\n",
    "                \n",
    "                while rand_adj_point in set(current_used_points):\n",
    "                    rand_adj_point = self.adj_dict[current_point][randint(0,len(self.adj_dict[current_point]))]\n",
    "                \n",
    "                \n",
    "                current_point = rand_adj_point\n",
    "                current_used_points.append(current_point)\n",
    "                \n",
    "                if rand_gate == 1:\n",
    "                    current_cnots += 1\n",
    "                    current_gates_list.append(\"CNOT\")\n",
    "                elif rand_gate == 2:\n",
    "                    current_gates_list.append(\"SWAP\")\n",
    "                    \n",
    "                p = 0\n",
    "                for adj_point in self.adj_dict[current_point]:\n",
    "                    if adj_point in set(current_used_points):\n",
    "                        p += 1\n",
    "                if len(self.adj_dict[current_point]) == p and current_cnots < (self.width_circuit - 1) :\n",
    "                    trapped = True\n",
    "                    break\n",
    "                    \n",
    "                if current_cnots == (self.width_circuit - 1):\n",
    "                    done = True\n",
    "                    \n",
    "            if not trapped:\n",
    "                avg_fidelity += self._fidelity(current_gates_list, current_used_points)\n",
    "                target += 1\n",
    "                print(\"target\")\n",
    "        return avg_fidelity/1\n",
    "            \n",
    "    def _fidelity(self, gates_list, used_points):\n",
    "        num_qubits = len(used_points)\n",
    "        q1 = QubitCircuit(num_qubits)\n",
    "        q2 = QubitCircuit(num_qubits)\n",
    "        print(gates_list)\n",
    "        q1.user_gates = {\"UCNOT\": mg.user_cnot, \"RCNOT\":mg.cnot_swap, \"USWAP\": mg.user_swap}\n",
    "        q2.user_gates = {\"UCNOT\": mg.user_cnot, \"RCNOT\":mg.cnot_swap, \"USWAP\": mg.user_swap}\n",
    "        edges = list(nx.utils.pairwise(used_points))\n",
    "        print(edges)\n",
    "        \n",
    "        i = 0\n",
    "        for gate in gates_list:\n",
    "            if gate == \"H\":\n",
    "                q1.add_gate(\"SNOT\",i)\n",
    "                q2.add_gate(\"SNOT\",i)\n",
    "                \n",
    "            elif gate == \"CNOT\":\n",
    "                q1.add_gate(\"UCNOT\",targets = [i,i+1 ], arg_value = 1)\n",
    "                q2.add_gate(\"UCNOT\",targets = [i, i+1 ], arg_value = self.noise_dict[edges[i]])\n",
    "                i += 1\n",
    "                \n",
    "            elif gate == \"SWAP\":\n",
    "                q1.add_gate(\"USWAP\",targets = [i,i+1 ], arg_value = 1)\n",
    "                q2.add_gate(\"USWAP\",targets = [i,i+1], arg_value = self.noise_dict[edges[i]])\n",
    "                i += 1\n",
    "        print(q1.gates)       \n",
    "        y = gate_sequence_product(q1.propagators())*tensor([basis(2,0)]*num_qubits)\n",
    "        y2 = gate_sequence_product(q2.propagators())*tensor([basis(2,0)]*num_qubits)\n",
    "        return fidelity(y,y2)\n",
    "            \n",
    "        \n",
    "    def _move(self, direction):\n",
    "        x, y = self.current_position\n",
    "        if movements[direction] == 'up':\n",
    "            y += 1\n",
    "        elif movements[direction] == 'down':\n",
    "            y -= 1\n",
    "        elif movements[direction] == 'left':\n",
    "            x -= 1\n",
    "        else:\n",
    "            x += 1\n",
    "        return x,y\n",
    "    \n",
    "    def apply_gate(self, gate):\n",
    "        if gate == 0:\n",
    "            self.gates_list.append(\"H\")\n",
    "            \n",
    "        if gate == 1:\n",
    "            self.circuit_graph.add_edge(self.previous_position, self.current_position)\n",
    "            self.gates_list.append(\"CNOT\")\n",
    "\n",
    "        if gate == 2:\n",
    "            self.circuit_graph.add_edge(self.previous_position, self.current_position)\n",
    "            self.gates_list.append(\"SWAP\")\n",
    "        \n",
    "        \n",
    "    def reset(self):\n",
    "        self.trapped = False\n",
    "        self.used_points = []\n",
    "        self.num_cnots = 0\n",
    "        self.time_step = 0\n",
    "        self.current_position = (randint(0, self.width_grid),randint(0, self.height_grid))\n",
    "        self.circuit_graph = nx.DiGraph()\n",
    "        self.circuit_graph.add_nodes_from(self.hardware)\n",
    "        self.circuit = nx.convert_matrix.to_numpy_array(self.circuit_graph)\n",
    "        self.gates_list = []\n",
    "\n",
    "    # Render the environment to the screen\n",
    "    def render(self, mode='console'):\n",
    "        print(self.current_position)\n",
    "        print(self.used_points)\n",
    "        print(self.circuit)\n",
    "    "
   ]
  },
  {
   "cell_type": "code",
   "execution_count": 16,
   "metadata": {
    "scrolled": true
   },
   "outputs": [
    {
     "name": "stdout",
     "output_type": "stream",
     "text": [
      "(2, 0)\n",
      "[]\n",
      "[[0. 0. 0. 0. 0. 0. 0. 0. 0.]\n",
      " [0. 0. 0. 0. 0. 0. 0. 0. 0.]\n",
      " [0. 0. 0. 0. 0. 0. 0. 0. 0.]\n",
      " [0. 0. 0. 0. 0. 0. 0. 0. 0.]\n",
      " [0. 0. 0. 0. 0. 0. 0. 0. 0.]\n",
      " [0. 0. 0. 0. 0. 0. 0. 0. 0.]\n",
      " [0. 0. 0. 0. 0. 0. 0. 0. 0.]\n",
      " [0. 0. 0. 0. 0. 0. 0. 0. 0.]\n",
      " [0. 0. 0. 0. 0. 0. 0. 0. 0.]]\n",
      "(0, 0)\n"
     ]
    }
   ],
   "source": [
    "env = QubitHardwareEnv(3,3,3)\n",
    "env.reset()\n",
    "env.render()\n",
    "env.current_position = (0,0)\n",
    "movements = ['up', 'down', 'left', 'right']\n",
    "print(env.current_position)"
   ]
  },
  {
   "cell_type": "code",
   "execution_count": 17,
   "metadata": {},
   "outputs": [
    {
     "name": "stdout",
     "output_type": "stream",
     "text": [
      "['H']\n",
      "['H', 'SWAP', 'SWAP', 'SWAP', 'CNOT', 'CNOT']\n",
      "[((0, 0), (1, 0)), ((1, 0), (1, 1)), ((1, 1), (0, 1)), ((0, 1), (0, 2)), ((0, 2), (1, 2))]\n",
      "[Gate(SNOT, targets=[0], controls=None), Gate(USWAP, targets=[0, 1], controls=None), Gate(USWAP, targets=[1, 2], controls=None), Gate(USWAP, targets=[2, 3], controls=None), Gate(UCNOT, targets=[3, 4], controls=None), Gate(UCNOT, targets=[4, 5], controls=None)]\n",
      "target\n"
     ]
    },
    {
     "data": {
      "text/plain": [
       "(array([[0., 0., 0., 0., 0., 0., 0., 0., 0.],\n",
       "        [0., 0., 0., 0., 0., 0., 0., 0., 0.],\n",
       "        [0., 0., 0., 0., 0., 0., 0., 0., 0.],\n",
       "        [0., 0., 0., 0., 0., 0., 0., 0., 0.],\n",
       "        [0., 0., 0., 0., 0., 0., 0., 0., 0.],\n",
       "        [0., 0., 0., 0., 0., 0., 0., 0., 0.],\n",
       "        [0., 0., 0., 0., 0., 0., 0., 0., 0.],\n",
       "        [0., 0., 0., 0., 0., 0., 0., 0., 0.],\n",
       "        [0., 0., 0., 0., 0., 0., 0., 0., 0.]]),\n",
       " 0.4101153786219122,\n",
       " False,\n",
       " {})"
      ]
     },
     "execution_count": 17,
     "metadata": {},
     "output_type": "execute_result"
    }
   ],
   "source": [
    "env.step((3,0))"
   ]
  },
  {
   "cell_type": "code",
   "execution_count": 18,
   "metadata": {},
   "outputs": [
    {
     "name": "stdout",
     "output_type": "stream",
     "text": [
      "['H', 'CNOT']\n",
      "['H', 'CNOT', 'CNOT']\n",
      "[((0, 0), (1, 0)), ((1, 0), (2, 0))]\n",
      "[Gate(SNOT, targets=[0], controls=None), Gate(UCNOT, targets=[0, 1], controls=None), Gate(UCNOT, targets=[1, 2], controls=None)]\n",
      "target\n"
     ]
    },
    {
     "data": {
      "text/plain": [
       "(array([[0., 0., 0., 0., 0., 0., 0., 0., 0., 0.],\n",
       "        [0., 0., 0., 0., 0., 0., 0., 0., 0., 0.],\n",
       "        [0., 0., 0., 0., 0., 0., 0., 0., 0., 0.],\n",
       "        [0., 0., 0., 0., 0., 0., 0., 0., 0., 0.],\n",
       "        [0., 0., 0., 0., 0., 0., 0., 0., 0., 0.],\n",
       "        [0., 0., 0., 0., 0., 0., 0., 0., 0., 0.],\n",
       "        [0., 0., 0., 0., 0., 0., 0., 0., 0., 0.],\n",
       "        [0., 0., 0., 0., 0., 0., 0., 0., 0., 0.],\n",
       "        [0., 0., 0., 0., 0., 0., 0., 0., 0., 0.],\n",
       "        [0., 0., 0., 1., 0., 0., 0., 0., 0., 0.]]),\n",
       " 0.624655572409225,\n",
       " False,\n",
       " {})"
      ]
     },
     "execution_count": 18,
     "metadata": {},
     "output_type": "execute_result"
    }
   ],
   "source": [
    "env.step((3,1))"
   ]
  },
  {
   "cell_type": "code",
   "execution_count": 19,
   "metadata": {},
   "outputs": [
    {
     "name": "stdout",
     "output_type": "stream",
     "text": [
      "['H', 'CNOT', 'SWAP']\n",
      "['H', 'CNOT', 'SWAP', 'CNOT']\n",
      "[((0, 0), (1, 0)), ((1, 0), (1, 1)), ((1, 1), (0, 1))]\n",
      "[Gate(SNOT, targets=[0], controls=None), Gate(UCNOT, targets=[0, 1], controls=None), Gate(USWAP, targets=[1, 2], controls=None), Gate(UCNOT, targets=[2, 3], controls=None)]\n",
      "target\n"
     ]
    },
    {
     "data": {
      "text/plain": [
       "(array([[0., 0., 0., 0., 0., 0., 0., 0., 0., 0.],\n",
       "        [0., 0., 0., 0., 0., 0., 0., 0., 0., 0.],\n",
       "        [0., 0., 0., 0., 0., 0., 0., 0., 0., 0.],\n",
       "        [0., 0., 0., 0., 0., 0., 0., 0., 0., 0.],\n",
       "        [0., 0., 0., 0., 0., 0., 0., 0., 0., 0.],\n",
       "        [0., 0., 0., 0., 0., 0., 0., 0., 0., 0.],\n",
       "        [0., 0., 0., 0., 0., 0., 0., 0., 0., 0.],\n",
       "        [0., 0., 0., 0., 0., 0., 0., 0., 0., 0.],\n",
       "        [0., 0., 0., 0., 0., 0., 0., 0., 0., 0.],\n",
       "        [0., 0., 0., 1., 1., 0., 0., 0., 0., 0.]]),\n",
       " 0.666549816844394,\n",
       " False,\n",
       " {})"
      ]
     },
     "execution_count": 19,
     "metadata": {},
     "output_type": "execute_result"
    }
   ],
   "source": [
    "env.step((0,2))"
   ]
  },
  {
   "cell_type": "code",
   "execution_count": 20,
   "metadata": {},
   "outputs": [
    {
     "name": "stdout",
     "output_type": "stream",
     "text": [
      "['H', 'CNOT', 'SWAP', 'SWAP']\n",
      "['H', 'CNOT', 'SWAP', 'SWAP', 'CNOT']\n",
      "[((0, 0), (1, 0)), ((1, 0), (1, 1)), ((1, 1), (1, 2)), ((1, 2), (0, 2))]\n",
      "[Gate(SNOT, targets=[0], controls=None), Gate(UCNOT, targets=[0, 1], controls=None), Gate(USWAP, targets=[1, 2], controls=None), Gate(USWAP, targets=[2, 3], controls=None), Gate(UCNOT, targets=[3, 4], controls=None)]\n",
      "target\n"
     ]
    },
    {
     "data": {
      "text/plain": [
       "(array([[0., 0., 0., 0., 0., 0., 0., 0., 0., 0.],\n",
       "        [0., 0., 0., 0., 0., 0., 0., 0., 0., 0.],\n",
       "        [0., 0., 0., 0., 0., 0., 0., 0., 0., 0.],\n",
       "        [0., 0., 0., 0., 0., 0., 0., 0., 0., 0.],\n",
       "        [0., 0., 0., 0., 0., 0., 0., 0., 0., 0.],\n",
       "        [0., 0., 0., 0., 0., 0., 0., 0., 0., 0.],\n",
       "        [0., 0., 0., 0., 0., 0., 0., 0., 0., 0.],\n",
       "        [0., 0., 0., 0., 0., 0., 0., 0., 0., 0.],\n",
       "        [0., 0., 0., 0., 0., 0., 0., 0., 0., 0.],\n",
       "        [0., 0., 0., 1., 1., 1., 0., 0., 0., 0.]]),\n",
       " 0.5150995151313389,\n",
       " False,\n",
       " {})"
      ]
     },
     "execution_count": 20,
     "metadata": {},
     "output_type": "execute_result"
    }
   ],
   "source": [
    "env.step((0,2))\n"
   ]
  },
  {
   "cell_type": "code",
   "execution_count": 21,
   "metadata": {},
   "outputs": [
    {
     "name": "stdout",
     "output_type": "stream",
     "text": [
      "['H', 'CNOT', 'SWAP', 'SWAP', 'SWAP']\n",
      "['H', 'CNOT', 'SWAP', 'SWAP', 'SWAP', 'CNOT']\n",
      "[((0, 0), (1, 0)), ((1, 0), (1, 1)), ((1, 1), (1, 2)), ((1, 2), (2, 2)), ((2, 2), (2, 1))]\n",
      "[Gate(SNOT, targets=[0], controls=None), Gate(UCNOT, targets=[0, 1], controls=None), Gate(USWAP, targets=[1, 2], controls=None), Gate(USWAP, targets=[2, 3], controls=None), Gate(USWAP, targets=[3, 4], controls=None), Gate(UCNOT, targets=[4, 5], controls=None)]\n",
      "target\n"
     ]
    },
    {
     "data": {
      "text/plain": [
       "(array([[0., 0., 0., 0., 0., 0., 0., 0., 0., 0.],\n",
       "        [0., 0., 0., 0., 0., 0., 0., 0., 0., 0.],\n",
       "        [0., 0., 0., 0., 0., 0., 0., 0., 0., 0.],\n",
       "        [0., 0., 0., 0., 0., 0., 0., 0., 0., 0.],\n",
       "        [0., 0., 0., 0., 0., 0., 0., 0., 0., 0.],\n",
       "        [0., 0., 0., 0., 0., 0., 0., 0., 0., 0.],\n",
       "        [0., 0., 0., 0., 0., 0., 0., 0., 0., 0.],\n",
       "        [0., 0., 0., 0., 0., 0., 0., 0., 0., 0.],\n",
       "        [0., 0., 0., 0., 0., 0., 0., 0., 0., 0.],\n",
       "        [0., 0., 0., 1., 1., 1., 0., 0., 1., 0.]]),\n",
       " 0.464248273506952,\n",
       " False,\n",
       " {})"
      ]
     },
     "execution_count": 21,
     "metadata": {},
     "output_type": "execute_result"
    }
   ],
   "source": [
    "env.step((3,2))\n"
   ]
  },
  {
   "cell_type": "code",
   "execution_count": 22,
   "metadata": {},
   "outputs": [
    {
     "name": "stdout",
     "output_type": "stream",
     "text": [
      "['H', 'CNOT', 'SWAP', 'SWAP', 'SWAP', 'SWAP']\n",
      "['H', 'CNOT', 'SWAP', 'SWAP', 'SWAP', 'SWAP', 'CNOT']\n",
      "[((0, 0), (1, 0)), ((1, 0), (1, 1)), ((1, 1), (1, 2)), ((1, 2), (2, 2)), ((2, 2), (2, 1)), ((2, 1), (2, 0))]\n",
      "[Gate(SNOT, targets=[0], controls=None), Gate(UCNOT, targets=[0, 1], controls=None), Gate(USWAP, targets=[1, 2], controls=None), Gate(USWAP, targets=[2, 3], controls=None), Gate(USWAP, targets=[3, 4], controls=None), Gate(USWAP, targets=[4, 5], controls=None), Gate(UCNOT, targets=[5, 6], controls=None)]\n",
      "target\n"
     ]
    },
    {
     "data": {
      "text/plain": [
       "(array([[0., 0., 0., 0., 0., 0., 0., 0., 0., 0.],\n",
       "        [0., 0., 0., 0., 0., 0., 0., 0., 0., 0.],\n",
       "        [0., 0., 0., 0., 0., 0., 0., 0., 0., 0.],\n",
       "        [0., 0., 0., 0., 0., 0., 0., 0., 0., 0.],\n",
       "        [0., 0., 0., 0., 0., 0., 0., 0., 0., 0.],\n",
       "        [0., 0., 0., 0., 0., 0., 0., 0., 0., 0.],\n",
       "        [0., 0., 0., 0., 0., 0., 0., 0., 0., 0.],\n",
       "        [0., 0., 0., 0., 0., 0., 0., 0., 0., 0.],\n",
       "        [0., 0., 0., 0., 0., 0., 0., 0., 0., 0.],\n",
       "        [0., 0., 0., 1., 1., 1., 0., 1., 1., 0.]]),\n",
       " 0.35912784277100757,\n",
       " False,\n",
       " {})"
      ]
     },
     "execution_count": 22,
     "metadata": {},
     "output_type": "execute_result"
    }
   ],
   "source": [
    "env.step((1,2))"
   ]
  },
  {
   "cell_type": "code",
   "execution_count": 23,
   "metadata": {},
   "outputs": [
    {
     "data": {
      "text/plain": [
       "(array([[0., 0., 0., 0., 0., 0., 0., 0., 0., 0.],\n",
       "        [0., 0., 0., 0., 0., 0., 0., 0., 0., 0.],\n",
       "        [0., 0., 0., 0., 0., 0., 0., 0., 0., 0.],\n",
       "        [0., 0., 0., 0., 0., 0., 0., 0., 0., 0.],\n",
       "        [0., 0., 0., 0., 0., 0., 0., 0., 0., 0.],\n",
       "        [0., 0., 0., 0., 0., 0., 0., 0., 0., 0.],\n",
       "        [0., 0., 0., 0., 0., 0., 0., 0., 0., 0.],\n",
       "        [0., 0., 0., 0., 0., 0., 0., 0., 0., 0.],\n",
       "        [0., 0., 0., 0., 0., 0., 0., 0., 0., 0.],\n",
       "        [0., 0., 0., 1., 1., 1., 0., 1., 1., 0.]]),\n",
       " 0,\n",
       " True,\n",
       " {})"
      ]
     },
     "execution_count": 23,
     "metadata": {},
     "output_type": "execute_result"
    }
   ],
   "source": [
    "env.step((1,2))"
   ]
  },
  {
   "cell_type": "code",
   "execution_count": 502,
   "metadata": {},
   "outputs": [],
   "source": [
    "hardware = nx.generators.lattice.grid_2d_graph(3, 3, create_using = nx.DiGraph)\n",
    "circuit_graph = nx.DiGraph()\n",
    "circuit_graph.add_nodes_from(hardware)\n",
    "circuit = nx.convert_matrix.to_numpy_array(circuit_graph)"
   ]
  },
  {
   "cell_type": "code",
   "execution_count": 504,
   "metadata": {},
   "outputs": [
    {
     "data": {
      "text/plain": [
       "[(0, 0), (0, 1), (0, 2), (1, 0), (1, 1), (1, 2), (2, 0), (2, 1), (2, 2)]"
      ]
     },
     "execution_count": 504,
     "metadata": {},
     "output_type": "execute_result"
    }
   ],
   "source": [
    "list(hardware.nodes)"
   ]
  },
  {
   "cell_type": "code",
   "execution_count": null,
   "metadata": {},
   "outputs": [],
   "source": []
  }
 ],
 "metadata": {
  "kernelspec": {
   "display_name": "Python 3",
   "language": "python",
   "name": "python3"
  },
  "language_info": {
   "codemirror_mode": {
    "name": "ipython",
    "version": 3
   },
   "file_extension": ".py",
   "mimetype": "text/x-python",
   "name": "python",
   "nbconvert_exporter": "python",
   "pygments_lexer": "ipython3",
   "version": "3.7.6"
  }
 },
 "nbformat": 4,
 "nbformat_minor": 4
}
